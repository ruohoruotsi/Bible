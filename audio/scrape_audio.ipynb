{
 "cells": [
  {
   "cell_type": "markdown",
   "metadata": {},
   "source": [
    "# Scraping audio from bible.is"
   ]
  },
  {
   "cell_type": "code",
   "execution_count": 1,
   "metadata": {},
   "outputs": [],
   "source": [
    "import os, re, time, requests\n",
    "from bs4 import BeautifulSoup\n",
    "from selenium import webdriver\n",
    "from selenium.webdriver.common.by import By\n",
    "from selenium.webdriver.chrome.options import Options\n",
    "from tqdm.notebook import tqdm\n",
    "tqdm.pandas()\n",
    "import numpy as np\n",
    "import pandas as pd"
   ]
  },
  {
   "cell_type": "markdown",
   "metadata": {},
   "source": [
    "**Download this first**\n",
    "\n",
    "[link to download ChromeDriver](https://chromedriver.storage.googleapis.com/index.html?path=2.32/)\n",
    "\n",
    "In case you get an error check the [official page to download](https://chromedriver.chromium.org/downloads) the version that works for you."
   ]
  },
  {
   "cell_type": "markdown",
   "metadata": {},
   "source": [
    "Use this link for documentation\n",
    "\n",
    "[Selenium guide](https://www.selenium.dev/documentation/en/getting_started/quick/)"
   ]
  },
  {
   "cell_type": "code",
   "execution_count": 2,
   "metadata": {},
   "outputs": [],
   "source": [
    "root_url = 'https://live.bible.is'\n",
    "\n",
    "#change this path to your own after downloading chromedriver\n",
    "path_to_your_ChromeDriver = \"C://Users//Jamiil//Downloads//chromedriver_win32//chromedriver.exe\""
   ]
  },
  {
   "cell_type": "code",
   "execution_count": 3,
   "metadata": {},
   "outputs": [],
   "source": [
    "#New Testament\n",
    "#fr ref  : 1910 Louis Segond (Tresorsonore recording)\n",
    "#eng ref : King James version \n",
    "\n",
    "#change this to the language you want\n",
    "#language = ['/bible/ENGKJV', '/bible/FRNTLS']\n",
    "language =['/bible/FRNTLS']"
   ]
  },
  {
   "cell_type": "code",
   "execution_count": 4,
   "metadata": {},
   "outputs": [],
   "source": [
    "#New testament books\n",
    "\n",
    "book = ['MAT', 'MRK', 'LUK', 'JHN', 'ACT', 'ROM', '1CO', '2CO', 'GAL', 'EPH', 'PHP', 'COL',\n",
    "        '1TH', '2TH', '1TI', '2TI', 'TIT', 'PHM', 'HEB', 'JAS', '1PE', '2PE', '1JN', '2JN',\n",
    "        '3JN', 'JUD', 'REV']\n",
    "\n",
    "#Old + New testament books\n",
    "\n",
    "#book = [\"GEN\", \"EXO\", \"LEV\", \"NUM\", \"DEU\", \"JOS\", \"JDG\", \"RUT\", \"1SA\", \"2SA\", \"1KI\", \"2KI\",\n",
    "#        \"1CH\", \"2CH\", \"EZR\", \"NEH\", \"EST\", \"JOB\", \"PSA\", \"PRO\", \"ECC\", \"SNG\", \"ISA\", \"JER\",\n",
    "#        \"LAM\", \"EZK\", \"DAN\", \"HOS\", \"JOL\", \"AMO\", \"OBA\", \"JON\", \"MIC\", \"NAM\", \"HAB\", \"ZEP\",\n",
    "#        \"HAG\", \"ZEC\", \"MAL\",'MAT', 'MRK', 'LUK', 'JHN', 'ACT', 'ROM', '1CO', '2CO', 'GAL',\n",
    "#        'EPH', 'PHP', 'COL','1TH', '2TH', '1TI', '2TI', 'TIT', 'PHM', 'HEB', 'JAS', '1PE',\n",
    "#        '2PE', '1JN', '2JN','3JN', 'JUD', 'REV']"
   ]
  },
  {
   "cell_type": "code",
   "execution_count": 5,
   "metadata": {},
   "outputs": [],
   "source": [
    "# create a new directory\n",
    "try:\n",
    "    os.mkdir(f\"{os.curdir}\"+\"/Audio_Data/\")\n",
    "except FileExistsError:\n",
    "    pass\n",
    "# set the new directory as the current directory\n",
    "os.chdir(f\"{os.curdir}\"+\"/Audio_Data/\")\n",
    "\n",
    "cur_w_d = os.getcwd()"
   ]
  },
  {
   "cell_type": "code",
   "execution_count": null,
   "metadata": {},
   "outputs": [],
   "source": [
    "# if you run the cell below, find the output at this path\n",
    "\n",
    "cur_w_d"
   ]
  },
  {
   "cell_type": "code",
   "execution_count": null,
   "metadata": {},
   "outputs": [],
   "source": [
    "for i in tqdm(range(len(language)), desc=\"lang\"):\n",
    "    for j in tqdm(range(len(book)), desc=\"books\"):\n",
    "        urls = []\n",
    "        url = root_url + language[i] + \"/\" + book[j] + \"/\"\n",
    "        urls.append(url)\n",
    "        try:\n",
    "            os.mkdir(cur_w_d+\"/\"+book[j]+\"/\")\n",
    "        except FileExistsError:\n",
    "            pass\n",
    "\n",
    "        for url_item in urls:\n",
    "            for k in tqdm(range(1,30), desc=\"audio\"): # Set the max number of chapter per book to 30 \n",
    "                page = url_item + str(k) + \"?audio_type=audio\"\n",
    "                response = requests.get(page)\n",
    "                if response.url == page :\n",
    "                    options = Options()\n",
    "                    options.add_argument(\"--headless\")\n",
    "                    driver = webdriver.Chrome(executable_path= path_to_your_ChromeDriver,\n",
    "                                              options=options)\n",
    "                    driver.get(page)\n",
    "                    element = (driver\n",
    "                               .find_element(By.CSS_SELECTOR,'#__next > div > div.audio-player-background > audio')\n",
    "                               .get_attribute('src')\n",
    "                              )\n",
    "                    audio=requests.get(element, stream=True).content\n",
    "                    with open(cur_w_d + \"/\" + book[j] + \"/\" + book[j] + str(k) + \".mp3\", 'wb') as f:\n",
    "                        f.write(audio)\n",
    "                else:\n",
    "                    #print(\"<Response [404]>\") # Because links don't overflow we instead get back to square 1\n",
    "                    break\n",
    "                \n",
    "    print(\"Youpi! 1 minute break \\n\",30*\"=\")\n",
    "    time.sleep(60)\n",
    "print(\"DONE\")"
   ]
  }
 ],
 "metadata": {
  "kernelspec": {
   "display_name": "Python 3",
   "language": "python",
   "name": "python3"
  },
  "language_info": {
   "codemirror_mode": {
    "name": "ipython",
    "version": 3
   },
   "file_extension": ".py",
   "mimetype": "text/x-python",
   "name": "python",
   "nbconvert_exporter": "python",
   "pygments_lexer": "ipython3",
   "version": "3.7.3"
  }
 },
 "nbformat": 4,
 "nbformat_minor": 2
}
